{
 "cells": [
  {
   "cell_type": "code",
   "execution_count": 44,
   "metadata": {
    "Collapsed": "false"
   },
   "outputs": [],
   "source": [
    "import json\n",
    "import requests\n",
    "import numpy as np\n",
    "import pandas as pd\n",
    "from tqdm import tqdm"
   ]
  },
  {
   "cell_type": "code",
   "execution_count": 4,
   "metadata": {
    "Collapsed": "false"
   },
   "outputs": [],
   "source": [
    "key = '8wBiTSHPiK2z%2By8ETu%2FpYv%2FMAAdZoR8rZg3PIvSNCcD%2F26BiBPaosFs2dzrVJ%2BHUeaQGWb9c3T4vvNgMpI7fdw%3D%3D'\n",
    "\n",
    "def getAPI(*args):\n",
    "    info = []\n",
    "    i = 1\n",
    "    page = True\n",
    "    while page:\n",
    "        url = f' http://apis.data.go.kr/1611000/BldRgstService/getBrFlrOulnInfo?sigunguCd={sigungu}&bjdongCd={bjdong}&bun={bun}&ji={ji}&numOfRows=10&pageNo={i}&ServiceKey={key}&_type=json'\n",
    "        response = requests.get(url)\n",
    "        data = json.loads(response.text)\n",
    "        if data['response']['body']['items'] == '':\n",
    "            page = False\n",
    "            continue\n",
    "        info.extend(data['response']['body']['items']['item'])\n",
    "        i += 1\n",
    "    return info"
   ]
  },
  {
   "cell_type": "code",
   "execution_count": 5,
   "metadata": {
    "Collapsed": "false"
   },
   "outputs": [],
   "source": [
    "data = np.array([['4113511000', '0541', '0000'],\n",
    "       ['1114011100', '0001', '0000'],\n",
    "       ['1171010100', '0040', '0001'],\n",
    "       ['4129010400', '0033', '0000'],\n",
    "       ['4145010600', '0616', '0000'],\n",
    "       ['4128111200', '0370', '0000'],\n",
    "       ['1126010500', '0506', '0001'],\n",
    "       ['1135010200', '0333', '0001'],\n",
    "       ['1135010300', '0001', '0002'],\n",
    "       ['2826012200', '0009', '0090'],\n",
    "       ['1120011400', '0685', '0020'],\n",
    "       ['1171011100', '0088', '0000'],\n",
    "       ['1144012700', '0487', '0257']])"
   ]
  },
  {
   "cell_type": "code",
   "execution_count": 6,
   "metadata": {
    "Collapsed": "false"
   },
   "outputs": [
    {
     "name": "stderr",
     "output_type": "stream",
     "text": [
      "100%|██████████| 13/13 [00:16<00:00,  1.26s/it]\n"
     ]
    }
   ],
   "source": [
    "total = []\n",
    "for code, bun, ji in tqdm(data):\n",
    "    sigungu, bjdong = code[:5], code[5:]\n",
    "    info = getAPI(sigungu, bjdong, bun, ji)\n",
    "    total.extend(info)"
   ]
  },
  {
   "cell_type": "code",
   "execution_count": 7,
   "metadata": {
    "Collapsed": "false"
   },
   "outputs": [
    {
     "data": {
      "text/plain": [
       "1218"
      ]
     },
     "execution_count": 7,
     "metadata": {},
     "output_type": "execute_result"
    }
   ],
   "source": [
    "len(total)"
   ]
  },
  {
   "cell_type": "code",
   "execution_count": 8,
   "metadata": {
    "Collapsed": "false"
   },
   "outputs": [
    {
     "ename": "AttributeError",
     "evalue": "'str' object has no attribute 'items'",
     "output_type": "error",
     "traceback": [
      "\u001b[0;31m---------------------------------------------------------------------------\u001b[0m",
      "\u001b[0;31mAttributeError\u001b[0m                            Traceback (most recent call last)",
      "\u001b[0;32m<ipython-input-8-e4bca152f2bd>\u001b[0m in \u001b[0;36m<module>\u001b[0;34m\u001b[0m\n\u001b[0;32m----> 1\u001b[0;31m \u001b[0mdf\u001b[0m \u001b[0;34m=\u001b[0m \u001b[0mpd\u001b[0m\u001b[0;34m.\u001b[0m\u001b[0mjson_normalize\u001b[0m\u001b[0;34m(\u001b[0m\u001b[0mtotal\u001b[0m\u001b[0;34m)\u001b[0m\u001b[0;34m\u001b[0m\u001b[0;34m\u001b[0m\u001b[0m\n\u001b[0m",
      "\u001b[0;32m~/opt/anaconda3/lib/python3.7/site-packages/pandas/io/json/_normalize.py\u001b[0m in \u001b[0;36m_json_normalize\u001b[0;34m(data, record_path, meta, meta_prefix, record_prefix, errors, sep, max_level)\u001b[0m\n\u001b[1;32m    266\u001b[0m             \u001b[0;31m# TODO: handle record value which are lists, at least error\u001b[0m\u001b[0;34m\u001b[0m\u001b[0;34m\u001b[0m\u001b[0;34m\u001b[0m\u001b[0m\n\u001b[1;32m    267\u001b[0m             \u001b[0;31m#       reasonably\u001b[0m\u001b[0;34m\u001b[0m\u001b[0;34m\u001b[0m\u001b[0;34m\u001b[0m\u001b[0m\n\u001b[0;32m--> 268\u001b[0;31m             \u001b[0mdata\u001b[0m \u001b[0;34m=\u001b[0m \u001b[0mnested_to_record\u001b[0m\u001b[0;34m(\u001b[0m\u001b[0mdata\u001b[0m\u001b[0;34m,\u001b[0m \u001b[0msep\u001b[0m\u001b[0;34m=\u001b[0m\u001b[0msep\u001b[0m\u001b[0;34m,\u001b[0m \u001b[0mmax_level\u001b[0m\u001b[0;34m=\u001b[0m\u001b[0mmax_level\u001b[0m\u001b[0;34m)\u001b[0m\u001b[0;34m\u001b[0m\u001b[0;34m\u001b[0m\u001b[0m\n\u001b[0m\u001b[1;32m    269\u001b[0m         \u001b[0;32mreturn\u001b[0m \u001b[0mDataFrame\u001b[0m\u001b[0;34m(\u001b[0m\u001b[0mdata\u001b[0m\u001b[0;34m)\u001b[0m\u001b[0;34m\u001b[0m\u001b[0;34m\u001b[0m\u001b[0m\n\u001b[1;32m    270\u001b[0m     \u001b[0;32melif\u001b[0m \u001b[0;32mnot\u001b[0m \u001b[0misinstance\u001b[0m\u001b[0;34m(\u001b[0m\u001b[0mrecord_path\u001b[0m\u001b[0;34m,\u001b[0m \u001b[0mlist\u001b[0m\u001b[0;34m)\u001b[0m\u001b[0;34m:\u001b[0m\u001b[0;34m\u001b[0m\u001b[0;34m\u001b[0m\u001b[0m\n",
      "\u001b[0;32m~/opt/anaconda3/lib/python3.7/site-packages/pandas/io/json/_normalize.py\u001b[0m in \u001b[0;36mnested_to_record\u001b[0;34m(ds, prefix, sep, level, max_level)\u001b[0m\n\u001b[1;32m     81\u001b[0m     \u001b[0;32mfor\u001b[0m \u001b[0md\u001b[0m \u001b[0;32min\u001b[0m \u001b[0mds\u001b[0m\u001b[0;34m:\u001b[0m\u001b[0;34m\u001b[0m\u001b[0;34m\u001b[0m\u001b[0m\n\u001b[1;32m     82\u001b[0m         \u001b[0mnew_d\u001b[0m \u001b[0;34m=\u001b[0m \u001b[0mcopy\u001b[0m\u001b[0;34m.\u001b[0m\u001b[0mdeepcopy\u001b[0m\u001b[0;34m(\u001b[0m\u001b[0md\u001b[0m\u001b[0;34m)\u001b[0m\u001b[0;34m\u001b[0m\u001b[0;34m\u001b[0m\u001b[0m\n\u001b[0;32m---> 83\u001b[0;31m         \u001b[0;32mfor\u001b[0m \u001b[0mk\u001b[0m\u001b[0;34m,\u001b[0m \u001b[0mv\u001b[0m \u001b[0;32min\u001b[0m \u001b[0md\u001b[0m\u001b[0;34m.\u001b[0m\u001b[0mitems\u001b[0m\u001b[0;34m(\u001b[0m\u001b[0;34m)\u001b[0m\u001b[0;34m:\u001b[0m\u001b[0;34m\u001b[0m\u001b[0;34m\u001b[0m\u001b[0m\n\u001b[0m\u001b[1;32m     84\u001b[0m             \u001b[0;31m# each key gets renamed with prefix\u001b[0m\u001b[0;34m\u001b[0m\u001b[0;34m\u001b[0m\u001b[0;34m\u001b[0m\u001b[0m\n\u001b[1;32m     85\u001b[0m             \u001b[0;32mif\u001b[0m \u001b[0;32mnot\u001b[0m \u001b[0misinstance\u001b[0m\u001b[0;34m(\u001b[0m\u001b[0mk\u001b[0m\u001b[0;34m,\u001b[0m \u001b[0mstr\u001b[0m\u001b[0;34m)\u001b[0m\u001b[0;34m:\u001b[0m\u001b[0;34m\u001b[0m\u001b[0;34m\u001b[0m\u001b[0m\n",
      "\u001b[0;31mAttributeError\u001b[0m: 'str' object has no attribute 'items'"
     ]
    }
   ],
   "source": [
    "df = pd.json_normalize(total)"
   ]
  },
  {
   "cell_type": "code",
   "execution_count": null,
   "metadata": {
    "Collapsed": "false"
   },
   "outputs": [],
   "source": [
    "# extend로 인해 변수명들만 리스트에 저장되어짐"
   ]
  },
  {
   "cell_type": "code",
   "execution_count": 9,
   "metadata": {
    "Collapsed": "false"
   },
   "outputs": [
    {
     "data": {
      "text/plain": [
       "['area',\n",
       " 'areaExctYn',\n",
       " 'bjdongCd',\n",
       " 'bldNm',\n",
       " 'block',\n",
       " 'bun',\n",
       " 'crtnDay',\n",
       " 'dongNm',\n",
       " 'etcPurps',\n",
       " 'etcStrct',\n",
       " 'flrGbCd',\n",
       " 'flrGbCdNm',\n",
       " 'flrNo',\n",
       " 'flrNoNm',\n",
       " 'ji',\n",
       " 'lot',\n",
       " 'mainAtchGbCd',\n",
       " 'mainAtchGbCdNm',\n",
       " 'mainPurpsCd',\n",
       " 'mainPurpsCdNm',\n",
       " 'mgmBldrgstPk',\n",
       " 'naBjdongCd',\n",
       " 'naMainBun',\n",
       " 'naRoadCd',\n",
       " 'naSubBun',\n",
       " 'naUgrndCd',\n",
       " 'newPlatPlc',\n",
       " 'platGbCd',\n",
       " 'platPlc',\n",
       " 'rnum']"
      ]
     },
     "execution_count": 9,
     "metadata": {},
     "output_type": "execute_result"
    }
   ],
   "source": [
    "total[880:910]"
   ]
  },
  {
   "cell_type": "code",
   "execution_count": 10,
   "metadata": {
    "Collapsed": "false"
   },
   "outputs": [
    {
     "data": {
      "text/plain": [
       "{'area': 191.53,\n",
       " 'areaExctYn': 0,\n",
       " 'bjdongCd': 11000,\n",
       " 'bldNm': '현대백화점 판교복합몰',\n",
       " 'block': ' ',\n",
       " 'bun': '0541',\n",
       " 'crtnDay': 20200603,\n",
       " 'dongNm': '현대백화점 판교복합몰',\n",
       " 'etcPurps': '업무시설(사무소)',\n",
       " 'etcStrct': '철골철근콘크리트구조',\n",
       " 'flrGbCd': 20,\n",
       " 'flrGbCdNm': '지상',\n",
       " 'flrNo': 2,\n",
       " 'flrNoNm': '2층',\n",
       " 'ji': '0000',\n",
       " 'lot': ' ',\n",
       " 'mainAtchGbCd': 0,\n",
       " 'mainAtchGbCdNm': '주건축물',\n",
       " 'mainPurpsCd': 14204,\n",
       " 'mainPurpsCdNm': '사무소',\n",
       " 'mgmBldrgstPk': '41135-100259554',\n",
       " 'naBjdongCd': 11001,\n",
       " 'naMainBun': 20,\n",
       " 'naRoadCd': 411354340519,\n",
       " 'naSubBun': 0,\n",
       " 'naUgrndCd': 0,\n",
       " 'newPlatPlc': ' 경기도 성남시 분당구 판교역로146번길 20',\n",
       " 'platGbCd': 0,\n",
       " 'platPlc': '경기도 성남시 분당구 백현동 541번지',\n",
       " 'rnum': 1,\n",
       " 'sigunguCd': 41135,\n",
       " 'splotNm': ' ',\n",
       " 'strctCd': 42,\n",
       " 'strctCdNm': '철골철근콘크리트구조'}"
      ]
     },
     "execution_count": 10,
     "metadata": {},
     "output_type": "execute_result"
    }
   ],
   "source": [
    "total[0]"
   ]
  },
  {
   "cell_type": "code",
   "execution_count": null,
   "metadata": {
    "Collapsed": "false"
   },
   "outputs": [],
   "source": [
    "# 문제가 발생하는 지점"
   ]
  },
  {
   "cell_type": "code",
   "execution_count": 33,
   "metadata": {
    "Collapsed": "false"
   },
   "outputs": [],
   "source": [
    "sigungu = '11710'\n",
    "bjdong = '10100'\n",
    "bun = '0040'\n",
    "ji = '0001'\n",
    "url = f' http://apis.data.go.kr/1611000/BldRgstService/getBrFlrOulnInfo?sigunguCd={sigungu}&bjdongCd={bjdong}&bun={bun}&ji={ji}&numOfRows=10&pageNo=53&ServiceKey={key}&_type=json'\n",
    "response = requests.get(url)"
   ]
  },
  {
   "cell_type": "code",
   "execution_count": 46,
   "metadata": {
    "Collapsed": "false"
   },
   "outputs": [
    {
     "data": {
      "text/plain": [
       "{'response': {'header': {'resultCode': '00', 'resultMsg': 'NORMAL SERVICE.'},\n",
       "  'body': {'items': {'item': {'area': 107.56,\n",
       "     'areaExctYn': 0,\n",
       "     'bjdongCd': 10100,\n",
       "     'bldNm': '롯데월드',\n",
       "     'block': ' ',\n",
       "     'bun': '0040',\n",
       "     'crtnDay': 20200813,\n",
       "     'dongNm': 'S/M(4-2호)',\n",
       "     'etcPurps': '판매시설(동물병원)',\n",
       "     'etcStrct': '철골철근콘크리트구조',\n",
       "     'flrGbCd': 20,\n",
       "     'flrGbCdNm': '지상',\n",
       "     'flrNo': 2,\n",
       "     'flrNoNm': '2층',\n",
       "     'ji': '0001',\n",
       "     'lot': ' ',\n",
       "     'mainAtchGbCd': 0,\n",
       "     'mainAtchGbCdNm': '주건축물',\n",
       "     'mainPurpsCd': '07999',\n",
       "     'mainPurpsCdNm': '기타판매시설',\n",
       "     'mgmBldrgstPk': '11710-100190600',\n",
       "     'naBjdongCd': 10101,\n",
       "     'naMainBun': 240,\n",
       "     'naRoadCd': 117103123023,\n",
       "     'naSubBun': 0,\n",
       "     'naUgrndCd': 0,\n",
       "     'newPlatPlc': ' 서울특별시 송파구 올림픽로 240',\n",
       "     'platGbCd': 0,\n",
       "     'platPlc': '서울특별시 송파구 잠실동 40-1번지',\n",
       "     'rnum': 521,\n",
       "     'sigunguCd': 11710,\n",
       "     'splotNm': ' ',\n",
       "     'strctCd': 42,\n",
       "     'strctCdNm': '철골철근콘크리트구조'}},\n",
       "   'numOfRows': 10,\n",
       "   'pageNo': 53,\n",
       "   'totalCount': 521}}}"
      ]
     },
     "execution_count": 46,
     "metadata": {},
     "output_type": "execute_result"
    }
   ],
   "source": [
    "json.loads(response.text)"
   ]
  },
  {
   "cell_type": "code",
   "execution_count": 47,
   "metadata": {
    "Collapsed": "false"
   },
   "outputs": [],
   "source": [
    "temp = []\n",
    "temp.extend(json.loads(response.text)['response']['body']['items']['item'])"
   ]
  },
  {
   "cell_type": "code",
   "execution_count": 48,
   "metadata": {
    "Collapsed": "false"
   },
   "outputs": [
    {
     "data": {
      "text/plain": [
       "['area',\n",
       " 'areaExctYn',\n",
       " 'bjdongCd',\n",
       " 'bldNm',\n",
       " 'block',\n",
       " 'bun',\n",
       " 'crtnDay',\n",
       " 'dongNm',\n",
       " 'etcPurps',\n",
       " 'etcStrct',\n",
       " 'flrGbCd',\n",
       " 'flrGbCdNm',\n",
       " 'flrNo',\n",
       " 'flrNoNm',\n",
       " 'ji',\n",
       " 'lot',\n",
       " 'mainAtchGbCd',\n",
       " 'mainAtchGbCdNm',\n",
       " 'mainPurpsCd',\n",
       " 'mainPurpsCdNm',\n",
       " 'mgmBldrgstPk',\n",
       " 'naBjdongCd',\n",
       " 'naMainBun',\n",
       " 'naRoadCd',\n",
       " 'naSubBun',\n",
       " 'naUgrndCd',\n",
       " 'newPlatPlc',\n",
       " 'platGbCd',\n",
       " 'platPlc',\n",
       " 'rnum',\n",
       " 'sigunguCd',\n",
       " 'splotNm',\n",
       " 'strctCd',\n",
       " 'strctCdNm']"
      ]
     },
     "execution_count": 48,
     "metadata": {},
     "output_type": "execute_result"
    }
   ],
   "source": [
    "temp"
   ]
  },
  {
   "cell_type": "code",
   "execution_count": null,
   "metadata": {
    "Collapsed": "false"
   },
   "outputs": [],
   "source": []
  }
 ],
 "metadata": {
  "kernelspec": {
   "display_name": "Python 3",
   "language": "python",
   "name": "python3"
  },
  "language_info": {
   "codemirror_mode": {
    "name": "ipython",
    "version": 3
   },
   "file_extension": ".py",
   "mimetype": "text/x-python",
   "name": "python",
   "nbconvert_exporter": "python",
   "pygments_lexer": "ipython3",
   "version": "3.7.6"
  }
 },
 "nbformat": 4,
 "nbformat_minor": 4
}
